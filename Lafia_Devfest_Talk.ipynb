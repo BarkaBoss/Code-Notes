{
 "cells": [
  {
   "cell_type": "markdown",
   "metadata": {},
   "source": [
    "# <center>Hands-on Introduction to Machine Learning</center>\n",
    "\n",
    "<img src=\"images/ml_.jpg\" alt=\"Machine Learning\" width=\"500px\"/>\n",
    "\n",
    "## What is Machine Learning?\n",
    "Machine learning is the field of computing that is aimed and helping computers learn without explicitly being programmed.\n",
    "This means we don't writes set of rules but rather allow the computer to learn by tuning certain parameters.\n",
    "\n",
    "\n",
    "## Categories of Machine Learning\n",
    "\n",
    "### Supervised Learning\n",
    "\n",
    "Supervised learning is a learning technique where both features/data and expected results are fed to the machine learning algorithm till the algorithms learns to identify what result a set of features mean. The trained algorithm is the tested on new data to validate its performance.\n",
    "\n",
    "**Sample Supervised Algorithms:**\n",
    "* Linear Regression\n",
    "* Logistic Regression\n",
    "* Support Vector Machines (SVMs)\n",
    "* Decision Trees and Random Forests\n",
    "* Neural networks\n",
    "\n",
    "<img src=\"images/super.png\" alt=\"Supervised Learning\" width=\"500px\"/>\n",
    "\n",
    "\n",
    "### Unsupervised Learning\n",
    "\n",
    "Unsupervised learning  just feeds the learning algorithm data without the expected output but with features that should guide the algorithm to finding patterns in the data. It is generally used for finding hidden patterns in data/population\n",
    "\n",
    "**Sample Supervised Algorithms:**\n",
    "* k-Means\n",
    "* Hierarchical Cluster Analysis (HCA)\n",
    "* Expectation Maximization\n",
    "\n",
    "<img src=\"images/unsuper.png\" alt=\"Unsupervised Learning\" width=\"500px\"/>\n",
    "\n",
    "### Reinforcement Learning\n",
    "\n",
    "<img src=\"images/rein.png\" alt=\"Reinforcement Learning\" width=\"500px\"/>\n",
    "\n",
    "Reinforcement Learning is a training system that uses rules and policies to train an agent.\n",
    "Many robots implement Reinforcement Learning algorithms to learn how to walk. DeepMind’s AlphaGo program is also a good example of Reinforcement Learning: it made the headlines in March 2016 when it beat the world champion Lee Sedol at the game of Go."
   ]
  },
  {
   "cell_type": "markdown",
   "metadata": {},
   "source": [
    "## Tools for Machine Learning\n",
    "\n",
    "<img src=\"images/stats.png\" alt=\"Machine Learning Tools\" width=\"500px\"/>\n",
    "\n",
    "### Numerical Analysis\n",
    "\n",
    "1. Numpy installed via **pip install numpy**\n",
    "\n",
    "### Data Wrangling and Analysis Tools\n",
    "\n",
    "1. Pandas installed via **pip install pandas**\n",
    "\n",
    "### Data Visualization Tools\n",
    "\n",
    "1. Matplotlib installed via **pip install matplotlib**\n",
    "2. Seaborn installed via **pip install seaborn**\n",
    "\n",
    "### Deep Learning Tools and Libraries\n",
    "\n",
    "1. Tensorflow via **pip install tensorflow**\n",
    "2. Keras installed via **pip install keras**\n",
    "3. Pytorch installed via **pip install torch===1.3.0**\n",
    "\n",
    "### Statistical Modelling\n",
    "\n",
    "1. Scikit-learn installed via **pip install scikit-learn**"
   ]
  },
  {
   "cell_type": "markdown",
   "metadata": {},
   "source": [
    "### <center> Wait I thought this was suppose to be hands-on? </center>\n",
    "<center> <img src=\"images/tenor.gif\" alt=\"Hold Up\" width=\"500px\"/> </center>"
   ]
  },
  {
   "cell_type": "markdown",
   "metadata": {},
   "source": [
    "## Lets get our hands dirty with code\n",
    "\n",
    "We will be working on the iris dataset and using petal length, petal width, sepal length and sepal width to classify these three flowers (iris setosa, iris virginica and iris versicolor) from each other.\n",
    "\n",
    "To follow along you will need to install numpy, pandas, seaborn, matplotlib and scikit-learn\n",
    "<center> <img src=\"images/iris.jpg\" alt=\"Iris dataset\" width=\"500px\"/> </center>"
   ]
  },
  {
   "cell_type": "code",
   "execution_count": null,
   "metadata": {},
   "outputs": [],
   "source": [
    "import numpy as np\n",
    "import pandas as pd\n",
    "import seaborn as sns\n",
    "import matplotlib.pyplot as plt\n",
    "\n",
    "%matplotlib inline\n",
    "\n",
    "iris = pd.read_csv(\"dataset/Iris.csv\") #Read in data\n",
    "iris.head(10) #Show the first 10 rows of data"
   ]
  },
  {
   "cell_type": "code",
   "execution_count": null,
   "metadata": {
    "collapsed": true
   },
   "outputs": [],
   "source": [
    "#Remove the ID column as it doesn't give any useful information about the flowers we are trying to classify\n",
    "iris.drop('Id',axis=1,inplace=True)"
   ]
  },
  {
   "cell_type": "code",
   "execution_count": null,
   "metadata": {},
   "outputs": [],
   "source": [
    "iris.head()"
   ]
  },
  {
   "cell_type": "code",
   "execution_count": null,
   "metadata": {},
   "outputs": [],
   "source": [
    "#Check for data inconsistency like missing data etc\n",
    "iris.info()"
   ]
  },
  {
   "cell_type": "code",
   "execution_count": null,
   "metadata": {},
   "outputs": [],
   "source": [
    "#Get Statistical data regarding the dataset\n",
    "iris.describe()"
   ]
  },
  {
   "cell_type": "markdown",
   "metadata": {},
   "source": [
    "## Visualize our data using Matplotlib and Seaborn\n",
    "\n",
    "Like its popularly said a picture is worth a thousand words, data visualization allows to get a pictoral representation of trends within the data."
   ]
  },
  {
   "cell_type": "code",
   "execution_count": null,
   "metadata": {},
   "outputs": [],
   "source": [
    "fig = iris[iris.Species=='Iris-setosa'].plot(kind='scatter',x='SepalLengthCm',y='SepalWidthCm',color='orange', label='Setosa')\n",
    "iris[iris.Species=='Iris-versicolor'].plot(kind='scatter',x='SepalLengthCm',y='SepalWidthCm',color='blue', label='versicolor',ax=fig)\n",
    "iris[iris.Species=='Iris-virginica'].plot(kind='scatter',x='SepalLengthCm',y='SepalWidthCm',color='green', label='virginica', ax=fig)\n",
    "fig.set_xlabel(\"Sepal Length\")\n",
    "fig.set_ylabel(\"Sepal Width\")\n",
    "fig.set_title(\"Sepal Length VS Sepal Width\")\n",
    "fig=plt.gcf()\n",
    "fig.set_size_inches(10,6)\n",
    "plt.show()"
   ]
  },
  {
   "cell_type": "code",
   "execution_count": null,
   "metadata": {},
   "outputs": [],
   "source": [
    "plt.figure(figsize=(15,10))\n",
    "plt.subplot(2,2,1)\n",
    "sns.violinplot(x='Species',y='SepalWidthCm',data=iris)\n",
    "plt.subplot(2,2,2)\n",
    "sns.violinplot(x='Species',y='SepalLengthCm',data=iris)\n",
    "plt.subplot(2,2,3)\n",
    "sns.violinplot(x='Species',y='PetalWidthCm',data=iris)\n",
    "plt.subplot(2,2,4)\n",
    "sns.violinplot(x='Species',y='PetalLengthCm',data=iris)"
   ]
  },
  {
   "cell_type": "markdown",
   "metadata": {},
   "source": [
    "## Training and testing our model\n",
    "\n",
    "Sklearn provides numerous algorithms for solving classification problems, we will be focusing on **support vector machines (SVM)** in this hands-on session.\n",
    "\n",
    "The support vector machine is an algorithm that transforms data using a technique call the kernel trick to find boundaries between data. It is very good classification algorithm\n",
    "\n",
    "In order to train our model we will have to take first:\n",
    "1. Divide our data into training and test set, the training set will be fed to the **fit()** function of the SVM along with the labels. while the train set is fed to **predict()** function without the labels and it tells us how well our model performed at predicting the correct label\n",
    "2. We the get the performance of our test set as the accuracy of our model\n",
    "\n",
    "**Not Before we import the necessary packages though**"
   ]
  },
  {
   "cell_type": "code",
   "execution_count": null,
   "metadata": {
    "scrolled": true
   },
   "outputs": [],
   "source": [
    "from sklearn import svm  #import Support Vector Machine (SVM) Algorithm from scikit learn\n",
    "from sklearn import metrics #import metrics from sklearn used to evaluate the performance of the SVM against our algorithm\n",
    "from sklearn.cross_validation import train_test_split #importing train_test_split for isolating out data into train and test sets"
   ]
  },
  {
   "cell_type": "code",
   "execution_count": null,
   "metadata": {},
   "outputs": [],
   "source": [
    "print(\"Shape of original data: \", iris.shape)\n",
    "train, test = train_test_split(iris, test_size = 0.3) #spliting the data into 30% testing and hence 70% training\n",
    "print(\"Shape of train data: \", train.shape)\n",
    "print(\"Shape of test data: \", test.shape)"
   ]
  },
  {
   "cell_type": "code",
   "execution_count": null,
   "metadata": {},
   "outputs": [],
   "source": [
    "train_X = train[['SepalLengthCm','SepalWidthCm','PetalLengthCm','PetalWidthCm']] #Separating feature data from expected label or class\n",
    "train_y=train.Species #Storing expected label separately\n",
    "\n",
    "train_X.head()"
   ]
  },
  {
   "cell_type": "code",
   "execution_count": null,
   "metadata": {},
   "outputs": [],
   "source": [
    "test_X = test[['SepalLengthCm','SepalWidthCm','PetalLengthCm','PetalWidthCm']] #Separating feature data from expected label or class\n",
    "test_y=test.Species #Storing expected label separately\n",
    "\n",
    "test_y.head()"
   ]
  },
  {
   "cell_type": "code",
   "execution_count": null,
   "metadata": {},
   "outputs": [],
   "source": [
    "model = svm.SVC() #create instance of SVM\n",
    "model.fit(train_X,train_y) #Feed our train and test data to the fit method for training\n",
    "prediction=model.predict(test_X) #Pass test data to the predict method for see how it performs on data who's labels it doesn't know\n",
    "print('SVM Model accuracy: ',metrics.accuracy_score(prediction,test_y)) #Evaluate the test predictions against the expected prediction"
   ]
  },
  {
   "cell_type": "markdown",
   "metadata": {},
   "source": [
    "## Congrats you've built and tested your first model\n",
    "\n",
    "Now lets use our model to make predictions\n",
    "\n",
    "Iris-virginica test data: 5.4,\t2.6,\t4.7,\t1.9"
   ]
  },
  {
   "cell_type": "code",
   "execution_count": null,
   "metadata": {},
   "outputs": [],
   "source": [
    "#Collect sepal and petal data\n",
    "sepal_len = float(input(\"Enter the sepal length: \"))\n",
    "sepal_wid = float(input(\"Enter the sepal width: \"))\n",
    "petal_len = float(input(\"Enter the petal length: \"))\n",
    "petal_wid = float(input(\"Enter the petal width: \"))"
   ]
  },
  {
   "cell_type": "code",
   "execution_count": null,
   "metadata": {},
   "outputs": [],
   "source": [
    "pred = model.predict([[sepal_len, sepal_wid, petal_len, petal_wid]])\n",
    "print(pred)"
   ]
  }
 ],
 "metadata": {
  "kernelspec": {
   "display_name": "Python 3",
   "language": "python",
   "name": "python3"
  },
  "language_info": {
   "codemirror_mode": {
    "name": "ipython",
    "version": 3
   },
   "file_extension": ".py",
   "mimetype": "text/x-python",
   "name": "python",
   "nbconvert_exporter": "python",
   "pygments_lexer": "ipython3",
   "version": "3.6.3"
  }
 },
 "nbformat": 4,
 "nbformat_minor": 2
}
